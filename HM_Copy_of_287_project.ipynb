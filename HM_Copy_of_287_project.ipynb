{
  "nbformat": 4,
  "nbformat_minor": 0,
  "metadata": {
    "colab": {
      "name": "HM Copy of 287_project.ipynb",
      "provenance": [],
      "collapsed_sections": [],
      "include_colab_link": true
    },
    "kernelspec": {
      "display_name": "Python 3",
      "name": "python3"
    },
    "language_info": {
      "name": "python"
    }
  },
  "cells": [
    {
      "cell_type": "markdown",
      "metadata": {
        "id": "view-in-github",
        "colab_type": "text"
      },
      "source": [
        "<a href=\"https://colab.research.google.com/github/hanialsab3/HM_Copy_of_287/blob/main/HM_Copy_of_287_project.ipynb\" target=\"_parent\"><img src=\"https://colab.research.google.com/assets/colab-badge.svg\" alt=\"Open In Colab\"/></a>"
      ]
    },
    {
      "cell_type": "markdown",
      "metadata": {
        "id": "mZ_jXGqSsmot"
      },
      "source": [
        "**Importing Libraries**"
      ]
    },
    {
      "cell_type": "code",
      "metadata": {
        "id": "WbJkvIuKq-If"
      },
      "source": [
        "import numpy as np\n",
        "import pandas as pd\n",
        "import os, cv2, dlib, glob\n",
        "import tensorflow as tf\n",
        "import keras\n",
        "from keras.preprocessing import image\n",
        "from keras.preprocessing.image import ImageDataGenerator, load_img, img_to_array\n",
        "from keras.models import Sequential\n",
        "from keras.utils import plot_model\n",
        "from keras.models import load_model\n",
        "from keras.layers import Convolution2D, MaxPooling2D , ZeroPadding2D\n",
        "from keras.layers import Dense,Dropout,Activation,Flatten,BatchNormalization\n",
        "from keras.optimizers import Adam, RMSprop, SGD\n",
        "from keras import regularizers\n",
        "from keras.callbacks import ModelCheckpoint, CSVLogger, TensorBoard, EarlyStopping, ReduceLROnPlateau\n",
        "import datetime\n",
        "import matplotlib.pyplot as plt"
      ],
      "execution_count": null,
      "outputs": []
    },
    {
      "cell_type": "code",
      "metadata": {
        "colab": {
          "base_uri": "https://localhost:8080/"
        },
        "id": "kQHDijeljo4z",
        "outputId": "53b5aeb5-316b-46c2-a57b-3e0a8779d679"
      },
      "source": [
        "from google.colab import drive\n",
        "drive.mount('/content/drive')"
      ],
      "execution_count": null,
      "outputs": [
        {
          "output_type": "stream",
          "text": [
            "Mounted at /content/drive\n"
          ],
          "name": "stdout"
        }
      ]
    },
    {
      "cell_type": "markdown",
      "metadata": {
        "id": "MGaVidB-ssqC"
      },
      "source": [
        "**Loading Data**"
      ]
    },
    {
      "cell_type": "code",
      "metadata": {
        "colab": {
          "base_uri": "https://localhost:8080/"
        },
        "id": "kmLiQsexSnRg",
        "outputId": "c28d91ea-7902-47c1-cd34-b57bbe16ba6f"
      },
      "source": [
        "!unzip \"drive/MyDrive/fer2013.zip\" -d \"drive/MyDrive\""
      ],
      "execution_count": null,
      "outputs": [
        {
          "output_type": "stream",
          "text": [
            "Archive:  drive/MyDrive/fer2013.zip\n",
            "replace drive/MyDrive/data/test/0/32298.png? [y]es, [n]o, [A]ll, [N]one, [r]ename: "
          ],
          "name": "stdout"
        }
      ]
    },
    {
      "cell_type": "code",
      "metadata": {
        "colab": {
          "base_uri": "https://localhost:8080/"
        },
        "id": "RG7hbx7BkHGU",
        "outputId": "3553e554-14c6-40e9-b725-2a4fa6e3d0d2"
      },
      "source": [
        "# Reading the Data\n",
        "# !unzip \"drive/MyDrive/fer2013.zip\" -d \"drive/MyDrive\"\n",
        "\n",
        "\n",
        "trainpath = 'drive/MyDrive/data/train/'\n",
        "testpath = 'drive/MyDrive/data/test/'\n",
        "valpath = 'drive/MyDrive/data/val/'\n",
        "# !pwd\n",
        "\n",
        "row, col = 48, 48\n",
        "classes = 7\n",
        "\n",
        "def count_exp(path, set_):\n",
        "    dict_ = {}\n",
        "    for expression in os.listdir(path):\n",
        "        dir_ = path + expression\n",
        "        dict_[expression] = len(os.listdir(dir_))\n",
        "    df = pd.DataFrame(dict_, index=[set_])\n",
        "    return df\n",
        "train_count = count_exp(trainpath, 'train')\n",
        "test_count = count_exp(testpath, 'test')\n",
        "val_count = count_exp(valpath, 'validation')\n",
        "print(train_count)\n",
        "print(test_count)\n",
        "print(val_count)"
      ],
      "execution_count": null,
      "outputs": [
        {
          "output_type": "stream",
          "text": [
            "          0    1     2     3     4     5     6\n",
            "train  3995  436  4097  7215  4830  3171  4965\n",
            "        0   1    2    3    4    5    6\n",
            "test  491  55  528  879  594  416  626\n",
            "              0   1    2    3    4    5    6\n",
            "validation  467  56  496  895  653  415  607\n"
          ],
          "name": "stdout"
        }
      ]
    },
    {
      "cell_type": "markdown",
      "metadata": {
        "id": "zJOrTEI10YB7"
      },
      "source": [
        "**Loading Detector**"
      ]
    },
    {
      "cell_type": "code",
      "metadata": {
        "id": "bqAgzT9Vz1Yp"
      },
      "source": [
        "# detector = dlib.get_frontal_face_detector()"
      ],
      "execution_count": null,
      "outputs": []
    },
    {
      "cell_type": "code",
      "metadata": {
        "id": "0QCjNG0I48WF"
      },
      "source": [
        "num_classes=7\n",
        "img_rows,img_cols=48,48\n",
        "batch_size=32"
      ],
      "execution_count": null,
      "outputs": []
    },
    {
      "cell_type": "code",
      "metadata": {
        "id": "j_WFUt9V4-g6"
      },
      "source": [
        "train_datagen = ImageDataGenerator(\n",
        "    rescale=1./255,\n",
        "    rotation_range=30,\n",
        "    shear_range=0.3,\n",
        "    zoom_range=0.3,\n",
        "    width_shift_range=0.4,\n",
        "    height_shift_range=0.4,\n",
        "    horizontal_flip=True,\n",
        "    fill_mode='nearest')\n",
        "validation_datagen = ImageDataGenerator(rescale=1./255)\n",
        "test_datagen = ImageDataGenerator(rescale=1./255)"
      ],
      "execution_count": null,
      "outputs": []
    },
    {
      "cell_type": "code",
      "metadata": {
        "colab": {
          "base_uri": "https://localhost:8080/"
        },
        "id": "i-RCAO7J5A0s",
        "outputId": "25795489-3849-41fe-e3bc-dc586ed13082"
      },
      "source": [
        "train_generator = train_datagen.flow_from_directory(\n",
        " trainpath,\n",
        " color_mode='grayscale',\n",
        " target_size=(img_rows,img_cols),\n",
        " batch_size=batch_size,\n",
        " class_mode='categorical',\n",
        " shuffle=True)\n",
        "validation_generator = validation_datagen.flow_from_directory(\n",
        " valpath,\n",
        " color_mode='grayscale',\n",
        " target_size=(img_rows,img_cols),\n",
        " batch_size=batch_size,\n",
        " class_mode='categorical',\n",
        " shuffle=True)\n",
        "test_generator = test_datagen.flow_from_directory(\n",
        " testpath,\n",
        " color_mode='grayscale',\n",
        " target_size=(img_rows,img_cols),\n",
        " batch_size=batch_size,\n",
        " class_mode='categorical',\n",
        " shuffle=True)"
      ],
      "execution_count": null,
      "outputs": [
        {
          "output_type": "stream",
          "text": [
            "Found 28709 images belonging to 7 classes.\n",
            "Found 3589 images belonging to 7 classes.\n",
            "Found 3589 images belonging to 7 classes.\n"
          ],
          "name": "stdout"
        }
      ]
    },
    {
      "cell_type": "code",
      "metadata": {
        "id": "jfsccVnUDQgV"
      },
      "source": [
        "img_rows,img_cols=48,48\n",
        "num_classes=7\n",
        "batch_size=32\n",
        "# def cnn(weights_path=None, shape=(48, 48)):\n",
        "#   model = Sequential()\n",
        "#   model.add(Conv2D(32,(3,3),padding='same',kernel_initializer='he_normal',\n",
        "#                  input_shape=(1,img_rows,img_cols)))\n",
        "#   model.add(Activation('relu'))\n",
        "#   model.add(BatchNormalization())\n",
        "#   model.add(Conv2D(32,3,3,padding='same',kernel_initializer='he_normal',\n",
        "#                  input_shape=(1,img_rows,img_cols)))\n",
        "#   model.add(Activation('relu'))\n",
        "#   model.add(BatchNormalization())\n",
        "#   model.add(MaxPooling2D(pool_size=(2,2)))\n",
        "#   model.add(Dropout(0.2))\n",
        "#   #Block-2\n",
        "#   model.add(Conv2D(64,(3,3),padding='same',kernel_initializer='he_normal'))\n",
        "#   model.add(Activation('relu'))\n",
        "#   model.add(BatchNormalization())\n",
        "#   model.add(Conv2D(64,(3,3),padding='same',kernel_initializer='he_normal'))\n",
        "#   model.add(Activation('relu'))\n",
        "#   model.add(BatchNormalization())\n",
        "#   model.add(MaxPooling2D(pool_size=(2,2)))\n",
        "#   model.add(Dropout(0.2))\n",
        "#   #Block-3\n",
        "#   model.add(Conv2D(128,(3,3),padding='same',kernel_initializer='he_normal'))\n",
        "#   model.add(Activation('relu'))\n",
        "#   model.add(BatchNormalization())\n",
        "#   model.add(Conv2D(128,(3,3),padding='same',kernel_initializer='he_normal'))\n",
        "#   model.add(Activation('relu'))\n",
        "#   model.add(BatchNormalization())\n",
        "#   model.add(MaxPooling2D(pool_size=(2,2)))\n",
        "#   model.add(Dropout(0.2))\n",
        "#   #Block-4\n",
        "#   model.add(Conv2D(256,(3,3),padding='same',kernel_initializer='he_normal'))\n",
        "#   model.add(Activation('relu'))\n",
        "#   model.add(BatchNormalization())\n",
        "#   model.add(Conv2D(256,(3,3),padding='same',kernel_initializer='he_normal'))\n",
        "#   model.add(Activation('relu'))\n",
        "#   model.add(BatchNormalization())\n",
        "#   model.add(MaxPooling2D(pool_size=(2,2)))\n",
        "#   model.add(Dropout(0.2))\n",
        "#   #Block-5\n",
        "#   model.add(Flatten())\n",
        "#   model.add(Dense(64,kernel_initializer='he_normal'))\n",
        "#   model.add(Activation('relu'))\n",
        "#   model.add(BatchNormalization())\n",
        "#   model.add(Dropout(0.5))\n",
        "#   #Block-6\n",
        "#   model.add(Dense(64,kernel_initializer='he_normal'))\n",
        "#   model.add(Activation('relu'))\n",
        "#   model.add(BatchNormalization())\n",
        "#   model.add(Dropout(0.5))\n",
        "#   #Block-7\n",
        "#   model.add(Dense(num_classes,kernel_initializer='he_normal'))\n",
        "#   model.add(Activation('softmax'))\n",
        "#   if weights_path:\n",
        "#     model.load_weights(weights_path)\n",
        "   \n",
        "#   model.compile(optimizer='adam', loss='categorical_crossentropy',metrics=['accuracy'])\n",
        "#   model_json = model.to_json()\n",
        "#   with open(\"model.json\", \"w\") as json_file: json_file.write(model_json)\n",
        "#   return model"
      ],
      "execution_count": null,
      "outputs": []
    },
    {
      "cell_type": "code",
      "metadata": {
        "id": "eaGcD9jJKWbQ"
      },
      "source": [
        "# model = cnn()\n",
        "# model.summary()"
      ],
      "execution_count": null,
      "outputs": []
    },
    {
      "cell_type": "code",
      "metadata": {
        "id": "5_E3iS4hGHlZ"
      },
      "source": [
        "def cnn(weights_path=None, shape=(48, 48)):\n",
        "  model = Sequential()\n",
        "  model.add(ZeroPadding2D((1,1), input_shape=(48,48,1))) \n",
        "  model.add(Convolution2D(32, 3, 3, activation='relu')) \n",
        "  model.add(BatchNormalization())\n",
        "  model.add(ZeroPadding2D((1,1)))\n",
        "  model.add(Convolution2D(32, 3, 3, activation='relu'))\n",
        "  model.add(BatchNormalization())\n",
        "  model.add(MaxPooling2D((2,2), strides=(2,2), padding='same'))\n",
        "  model.add(Dropout(0.2))\n",
        "  model.add(ZeroPadding2D((1,1)))\n",
        "  model.add(Convolution2D(64, 3, 3, activation='relu'))\n",
        "  model.add(BatchNormalization())\n",
        "  model.add(ZeroPadding2D((1,1)))\n",
        "  model.add(Convolution2D(64, 3, 3, activation='relu')) \n",
        "  model.add(BatchNormalization())  \n",
        "  model.add(MaxPooling2D((2,2), strides=(2,2), padding='same'))\n",
        "  model.add(Dropout(0.2))\n",
        "  model.add(ZeroPadding2D((1,1))) \n",
        "  model.add(Convolution2D(128, 3, 3, activation='relu')) \n",
        "  model.add(BatchNormalization())\n",
        "  model.add(ZeroPadding2D((1,1))) \n",
        "  model.add(Convolution2D(128, 3, 3, activation='relu')) \n",
        "  model.add(BatchNormalization())\n",
        "  model.add(MaxPooling2D((2,2), strides=(2,2), padding='same'))\n",
        "  model.add(Dropout(0.2))\n",
        "  model.add(ZeroPadding2D((1,1))) \n",
        "  model.add(Convolution2D(256, 3, 3, activation='relu')) \n",
        "  model.add(BatchNormalization())\n",
        "  model.add(ZeroPadding2D((1,1))) \n",
        "  model.add(Convolution2D(256, 3, 3, activation='relu'))\n",
        "  model.add(BatchNormalization()) \n",
        "  model.add(ZeroPadding2D((1,1))) \n",
        "  model.add(MaxPooling2D((2,2), strides=(2,2), padding='same'))\n",
        "  model.add(Dropout(0.2)) \n",
        "  model.add(ZeroPadding2D((1,1))) \n",
        "  model.add(Convolution2D(512, 3, 3, activation='relu')) \n",
        "  model.add(BatchNormalization())\n",
        "  model.add(ZeroPadding2D((1,1))) \n",
        "  model.add(Convolution2D(512, 3, 3, activation='relu')) \n",
        "  model.add(BatchNormalization())\n",
        "  model.add(ZeroPadding2D((1,1))) \n",
        "  model.add(Convolution2D(512, 3, 3, activation='relu')) \n",
        "  model.add(MaxPooling2D((2,2), strides=(2,2), padding='same'))\n",
        "  # model.add(Dropout(0.2))\n",
        "  model.add(Flatten())\n",
        "  model.add(Dense(64, activation='relu')) \n",
        "  model.add(BatchNormalization())\n",
        "  model.add(Dropout(0.5))\n",
        "  model.add(Dense(128, activation='relu')) \n",
        "  model.add(BatchNormalization())\n",
        "  model.add(Dropout(0.5))\n",
        "  model.add(Dense(num_classes, activation='softmax'))\n",
        "  print (\"Create model successfully\")\n",
        "  if weights_path:\n",
        "    model.load_weights(weights_path)\n",
        "   \n",
        "  # model.compile(optimizer='adam', loss='categorical_crossentropy', metrics=['accuracy'])\n",
        "  # model_json = model.to_json()\n",
        "  # with open(\"model.json\", \"w\") as json_file: json_file.write(model_json)\n",
        "  return model"
      ],
      "execution_count": null,
      "outputs": []
    },
    {
      "cell_type": "code",
      "metadata": {
        "colab": {
          "base_uri": "https://localhost:8080/"
        },
        "id": "C8UfZdFiLPGB",
        "outputId": "d33d8f68-465e-4175-8e99-cc56a5d7650a"
      },
      "source": [
        "model = cnn()\n",
        "model.summary()"
      ],
      "execution_count": null,
      "outputs": [
        {
          "output_type": "stream",
          "text": [
            "Create model successfully\n",
            "Model: \"sequential\"\n",
            "_________________________________________________________________\n",
            "Layer (type)                 Output Shape              Param #   \n",
            "=================================================================\n",
            "zero_padding2d (ZeroPadding2 (None, 50, 50, 1)         0         \n",
            "_________________________________________________________________\n",
            "conv2d (Conv2D)              (None, 16, 16, 32)        320       \n",
            "_________________________________________________________________\n",
            "batch_normalization (BatchNo (None, 16, 16, 32)        128       \n",
            "_________________________________________________________________\n",
            "zero_padding2d_1 (ZeroPaddin (None, 18, 18, 32)        0         \n",
            "_________________________________________________________________\n",
            "conv2d_1 (Conv2D)            (None, 6, 6, 32)          9248      \n",
            "_________________________________________________________________\n",
            "batch_normalization_1 (Batch (None, 6, 6, 32)          128       \n",
            "_________________________________________________________________\n",
            "max_pooling2d (MaxPooling2D) (None, 3, 3, 32)          0         \n",
            "_________________________________________________________________\n",
            "dropout (Dropout)            (None, 3, 3, 32)          0         \n",
            "_________________________________________________________________\n",
            "zero_padding2d_2 (ZeroPaddin (None, 5, 5, 32)          0         \n",
            "_________________________________________________________________\n",
            "conv2d_2 (Conv2D)            (None, 1, 1, 64)          18496     \n",
            "_________________________________________________________________\n",
            "batch_normalization_2 (Batch (None, 1, 1, 64)          256       \n",
            "_________________________________________________________________\n",
            "zero_padding2d_3 (ZeroPaddin (None, 3, 3, 64)          0         \n",
            "_________________________________________________________________\n",
            "conv2d_3 (Conv2D)            (None, 1, 1, 64)          36928     \n",
            "_________________________________________________________________\n",
            "batch_normalization_3 (Batch (None, 1, 1, 64)          256       \n",
            "_________________________________________________________________\n",
            "max_pooling2d_1 (MaxPooling2 (None, 1, 1, 64)          0         \n",
            "_________________________________________________________________\n",
            "dropout_1 (Dropout)          (None, 1, 1, 64)          0         \n",
            "_________________________________________________________________\n",
            "zero_padding2d_4 (ZeroPaddin (None, 3, 3, 64)          0         \n",
            "_________________________________________________________________\n",
            "conv2d_4 (Conv2D)            (None, 1, 1, 128)         73856     \n",
            "_________________________________________________________________\n",
            "batch_normalization_4 (Batch (None, 1, 1, 128)         512       \n",
            "_________________________________________________________________\n",
            "zero_padding2d_5 (ZeroPaddin (None, 3, 3, 128)         0         \n",
            "_________________________________________________________________\n",
            "conv2d_5 (Conv2D)            (None, 1, 1, 128)         147584    \n",
            "_________________________________________________________________\n",
            "batch_normalization_5 (Batch (None, 1, 1, 128)         512       \n",
            "_________________________________________________________________\n",
            "max_pooling2d_2 (MaxPooling2 (None, 1, 1, 128)         0         \n",
            "_________________________________________________________________\n",
            "dropout_2 (Dropout)          (None, 1, 1, 128)         0         \n",
            "_________________________________________________________________\n",
            "zero_padding2d_6 (ZeroPaddin (None, 3, 3, 128)         0         \n",
            "_________________________________________________________________\n",
            "conv2d_6 (Conv2D)            (None, 1, 1, 256)         295168    \n",
            "_________________________________________________________________\n",
            "batch_normalization_6 (Batch (None, 1, 1, 256)         1024      \n",
            "_________________________________________________________________\n",
            "zero_padding2d_7 (ZeroPaddin (None, 3, 3, 256)         0         \n",
            "_________________________________________________________________\n",
            "conv2d_7 (Conv2D)            (None, 1, 1, 256)         590080    \n",
            "_________________________________________________________________\n",
            "batch_normalization_7 (Batch (None, 1, 1, 256)         1024      \n",
            "_________________________________________________________________\n",
            "zero_padding2d_8 (ZeroPaddin (None, 3, 3, 256)         0         \n",
            "_________________________________________________________________\n",
            "max_pooling2d_3 (MaxPooling2 (None, 2, 2, 256)         0         \n",
            "_________________________________________________________________\n",
            "dropout_3 (Dropout)          (None, 2, 2, 256)         0         \n",
            "_________________________________________________________________\n",
            "zero_padding2d_9 (ZeroPaddin (None, 4, 4, 256)         0         \n",
            "_________________________________________________________________\n",
            "conv2d_8 (Conv2D)            (None, 1, 1, 512)         1180160   \n",
            "_________________________________________________________________\n",
            "batch_normalization_8 (Batch (None, 1, 1, 512)         2048      \n",
            "_________________________________________________________________\n",
            "zero_padding2d_10 (ZeroPaddi (None, 3, 3, 512)         0         \n",
            "_________________________________________________________________\n",
            "conv2d_9 (Conv2D)            (None, 1, 1, 512)         2359808   \n",
            "_________________________________________________________________\n",
            "batch_normalization_9 (Batch (None, 1, 1, 512)         2048      \n",
            "_________________________________________________________________\n",
            "zero_padding2d_11 (ZeroPaddi (None, 3, 3, 512)         0         \n",
            "_________________________________________________________________\n",
            "conv2d_10 (Conv2D)           (None, 1, 1, 512)         2359808   \n",
            "_________________________________________________________________\n",
            "max_pooling2d_4 (MaxPooling2 (None, 1, 1, 512)         0         \n",
            "_________________________________________________________________\n",
            "flatten (Flatten)            (None, 512)               0         \n",
            "_________________________________________________________________\n",
            "dense (Dense)                (None, 64)                32832     \n",
            "_________________________________________________________________\n",
            "batch_normalization_10 (Batc (None, 64)                256       \n",
            "_________________________________________________________________\n",
            "dropout_4 (Dropout)          (None, 64)                0         \n",
            "_________________________________________________________________\n",
            "dense_1 (Dense)              (None, 128)               8320      \n",
            "_________________________________________________________________\n",
            "batch_normalization_11 (Batc (None, 128)               512       \n",
            "_________________________________________________________________\n",
            "dropout_5 (Dropout)          (None, 128)               0         \n",
            "_________________________________________________________________\n",
            "dense_2 (Dense)              (None, 7)                 903       \n",
            "=================================================================\n",
            "Total params: 7,122,215\n",
            "Trainable params: 7,117,863\n",
            "Non-trainable params: 4,352\n",
            "_________________________________________________________________\n"
          ],
          "name": "stdout"
        }
      ]
    },
    {
      "cell_type": "code",
      "metadata": {
        "id": "CSScvSPLDhHO"
      },
      "source": [
        "checkpoint = ModelCheckpoint('EmotionDetectionModel.h5',\n",
        "                             monitor='val_loss',\n",
        "                             mode='min',\n",
        "                             save_best_only=True,\n",
        "                             verbose=1)\n",
        "earlystop = EarlyStopping(monitor='val_loss',\n",
        "                          min_delta=0,\n",
        "                          patience=3,\n",
        "                          verbose=1,\n",
        "                          restore_best_weights=True\n",
        "                          )\n",
        "reduce_lr = ReduceLROnPlateau(monitor='val_loss',\n",
        "                              factor=0.2,\n",
        "                              patience=3,\n",
        "                              verbose=1,\n",
        "                              min_delta=0.0001)\n",
        "callbacks = [earlystop,checkpoint,reduce_lr]"
      ],
      "execution_count": null,
      "outputs": []
    },
    {
      "cell_type": "code",
      "metadata": {
        "id": "gaNlRFnpDoI5"
      },
      "source": [
        "model.compile(loss='categorical_crossentropy',\n",
        " optimizer = Adam(lr=0.001),\n",
        " metrics=['accuracy'])\n",
        "\n",
        "nb_train_samples = 28709\n",
        "nb_validation_samples = 3589"
      ],
      "execution_count": null,
      "outputs": []
    },
    {
      "cell_type": "code",
      "metadata": {
        "colab": {
          "base_uri": "https://localhost:8080/"
        },
        "id": "MsqlUXkeXJZl",
        "outputId": "1bd14c35-129d-4f69-e169-9b78a00b8e13"
      },
      "source": [
        "nb_validation_samples//batch_size\n"
      ],
      "execution_count": null,
      "outputs": [
        {
          "output_type": "execute_result",
          "data": {
            "text/plain": [
              "112"
            ]
          },
          "metadata": {
            "tags": []
          },
          "execution_count": 16
        }
      ]
    },
    {
      "cell_type": "code",
      "metadata": {
        "colab": {
          "base_uri": "https://localhost:8080/"
        },
        "id": "EcQljmjlXYoO",
        "outputId": "01158173-0f09-4c20-8274-39ee606cee1f"
      },
      "source": [
        "nb_train_samples//batch_size"
      ],
      "execution_count": null,
      "outputs": [
        {
          "output_type": "execute_result",
          "data": {
            "text/plain": [
              "897"
            ]
          },
          "metadata": {
            "tags": []
          },
          "execution_count": 17
        }
      ]
    },
    {
      "cell_type": "code",
      "metadata": {
        "colab": {
          "background_save": true,
          "base_uri": "https://localhost:8080/"
        },
        "id": "7OzIF79fVXUY",
        "outputId": "75dccfd3-c60e-406f-bb76-cb6787d3ec90"
      },
      "source": [
        "history = model.fit_generator(\n",
        " train_generator,\n",
        " verbose=2,\n",
        " epochs = 3,\n",
        " callbacks = callbacks,\n",
        " validation_data = validation_generator,\n",
        " validation_steps = round(nb_validation_samples)//batch_size,\n",
        " steps_per_epoch = round(nb_train_samples)//batch_size,)"
      ],
      "execution_count": null,
      "outputs": [
        {
          "output_type": "stream",
          "text": [
            "/usr/local/lib/python3.7/dist-packages/tensorflow/python/keras/engine/training.py:1844: UserWarning: `Model.fit_generator` is deprecated and will be removed in a future version. Please use `Model.fit`, which supports generators.\n",
            "  warnings.warn('`Model.fit_generator` is deprecated and '\n"
          ],
          "name": "stderr"
        },
        {
          "output_type": "stream",
          "text": [
            "Epoch 1/3\n",
            "897/897 - 578s - loss: 1.8141 - accuracy: 0.2437 - val_loss: 1.7967 - val_accuracy: 0.2489\n",
            "\n",
            "Epoch 00001: val_loss did not improve from 1.79220\n",
            "Epoch 2/3\n",
            "897/897 - 580s - loss: 1.8107 - accuracy: 0.2445 - val_loss: 1.7897 - val_accuracy: 0.2497\n",
            "\n",
            "Epoch 00002: val_loss improved from 1.79220 to 1.78970, saving model to EmotionDetectionModel.h5\n",
            "Epoch 3/3\n",
            "897/897 - 564s - loss: 1.8112 - accuracy: 0.2439 - val_loss: 1.7961 - val_accuracy: 0.2480\n",
            "\n",
            "Epoch 00003: val_loss did not improve from 1.78970\n"
          ],
          "name": "stdout"
        }
      ]
    },
    {
      "cell_type": "code",
      "metadata": {
        "colab": {
          "base_uri": "https://localhost:8080/",
          "height": 178
        },
        "id": "l-LFyEe3DuRX",
        "outputId": "4f073ad1-35ec-4a1e-c9ab-f595b297df58"
      },
      "source": [
        "gray=cv2.cvtColor(frame,cv2.COLOR_BGR2GRAY)\n",
        "faces=face_classifier.detectMultiScale(gray,1.3,5)"
      ],
      "execution_count": null,
      "outputs": [
        {
          "output_type": "error",
          "ename": "NameError",
          "evalue": "ignored",
          "traceback": [
            "\u001b[0;31m---------------------------------------------------------------------------\u001b[0m",
            "\u001b[0;31mNameError\u001b[0m                                 Traceback (most recent call last)",
            "\u001b[0;32m<ipython-input-19-aa85d03c197d>\u001b[0m in \u001b[0;36m<module>\u001b[0;34m()\u001b[0m\n\u001b[0;32m----> 1\u001b[0;31m \u001b[0mgray\u001b[0m\u001b[0;34m=\u001b[0m\u001b[0mcv2\u001b[0m\u001b[0;34m.\u001b[0m\u001b[0mcvtColor\u001b[0m\u001b[0;34m(\u001b[0m\u001b[0mframe\u001b[0m\u001b[0;34m,\u001b[0m\u001b[0mcv2\u001b[0m\u001b[0;34m.\u001b[0m\u001b[0mCOLOR_BGR2GRAY\u001b[0m\u001b[0;34m)\u001b[0m\u001b[0;34m\u001b[0m\u001b[0;34m\u001b[0m\u001b[0m\n\u001b[0m\u001b[1;32m      2\u001b[0m \u001b[0mfaces\u001b[0m\u001b[0;34m=\u001b[0m\u001b[0mface_classifier\u001b[0m\u001b[0;34m.\u001b[0m\u001b[0mdetectMultiScale\u001b[0m\u001b[0;34m(\u001b[0m\u001b[0mgray\u001b[0m\u001b[0;34m,\u001b[0m\u001b[0;36m1.3\u001b[0m\u001b[0;34m,\u001b[0m\u001b[0;36m5\u001b[0m\u001b[0;34m)\u001b[0m\u001b[0;34m\u001b[0m\u001b[0;34m\u001b[0m\u001b[0m\n",
            "\u001b[0;31mNameError\u001b[0m: name 'frame' is not defined"
          ]
        }
      ]
    },
    {
      "cell_type": "code",
      "metadata": {
        "id": "wPe3FEthDuaE"
      },
      "source": [
        "for (x,y,w,h) in faces:\n",
        "    cv2.rectangle(frame,(x,y),(x+w,y+h),(255,0,0),2)\n",
        "    roi_gray=gray[y:y+h,x:x+w]\n",
        "    roi_gray=cv2.resize(roi_gray,(48,48),interpolation=cv2.INTER_AREA)"
      ],
      "execution_count": null,
      "outputs": []
    },
    {
      "cell_type": "code",
      "metadata": {
        "id": "4X9fx38PDzsA"
      },
      "source": [
        "if np.sum([roi_gray])!=0:\n",
        "   roi=roi_gray.astype('float')/255.0\n",
        "   roi=img_to_array(roi)\n",
        "   roi=np.expand_dims(roi,axis=0)\n",
        "   preds=classifier.predict(roi)[0]\n",
        "   label=class_labels[preds.argmax()]\n",
        "   label_position=(x,y)\n",
        "   cv2.putText(frame,label,label_position,cv2.FONT_HERSHEY_SIMPLEX,2,(0,255,0),3)\n",
        "else:\n",
        "   cv2.putText(frame,'No Face Found',(20,20),cv2.FONT_HERSHEY_SIMPLEX,2,(0,255,0),3)\n",
        "cv2.imshow('Emotion Detector',frame)\n",
        "if cv2.waitKey(1) & 0xFF == ord('q'): \n",
        "   break"
      ],
      "execution_count": null,
      "outputs": []
    },
    {
      "cell_type": "code",
      "metadata": {
        "id": "5WMFNIBRD3DX"
      },
      "source": [
        "cap.release()\n",
        "cv2.destroyAllWindows()"
      ],
      "execution_count": null,
      "outputs": []
    },
    {
      "cell_type": "code",
      "metadata": {
        "id": "vZlY2FzID3Ga"
      },
      "source": [
        "while True:\n",
        "    ret,frame=cap.read()\n",
        "    labels=[]\n",
        "    gray=cv2.cvtColor(frame,cv2.COLOR_BGR2GRAY)\n",
        "    faces=face_classifier.detectMultiScale(gray,1.3,5)\n",
        "\n",
        "    for (x,y,w,h) in faces:\n",
        "        cv2.rectangle(frame,(x,y),(x+w,y+h),(255,0,0),2)\n",
        "        roi_gray=gray[y:y+h,x:x+w]\n",
        "        roi_gray=cv2.resize(roi_gray,(48,48),interpolation=cv2.INTER_AREA)\n",
        "\n",
        "        if np.sum([roi_gray])!=0:\n",
        "            roi=roi_gray.astype('float')/255.0\n",
        "            roi=img_to_array(roi)\n",
        "            roi=np.expand_dims(roi,axis=0)\n",
        "\n",
        "            preds=classifier.predict(roi)[0]\n",
        "            label=class_labels[preds.argmax()]\n",
        "            label_position=(x,y)\n",
        "            cv2.putText(frame,label,label_position,cv2.FONT_HERSHEY_SIMPLEX,2,(0,255,0),3)\n",
        "        else:\n",
        "            cv2.putText(frame,'No Face Found',(20,20),cv2.FONT_HERSHEY_SIMPLEX,2,(0,255,0),3)\n",
        "    \n",
        "    cv2.imshow('Emotion Detector',frame)\n",
        "    if cv2.waitKey(1) & 0xFF == ord('q'):\n",
        "        break\n",
        "cap.release()\n",
        "cv2.destroyAllWindows()"
      ],
      "execution_count": null,
      "outputs": []
    },
    {
      "cell_type": "code",
      "metadata": {
        "id": "oFT8PkLFDzu7"
      },
      "source": [
        ""
      ],
      "execution_count": null,
      "outputs": []
    },
    {
      "cell_type": "code",
      "metadata": {
        "id": "EIPHhspR3hSe"
      },
      "source": [
        "# from google.colab.patches import cv2_imshow\n",
        "# from skimage import io \n",
        "# read the images in the training dataset\n",
        "\n",
        "# for images in os.listdir(pathtrain):\n",
        "#   image = cv2.imread(images)\n",
        "#   # gray = cv2.cvtColor(src=image, code=cv2.COLOR_BGR2GRAY)\n",
        "#   cv2_imshow(image)\n",
        "\n",
        "# def load_images(folder):\n",
        "#   images = []\n",
        "#   for image in os.listdir(folder):\n",
        "#     img = cv2.imread(os.path.join(folder,image))\n",
        "#     if img is not None:\n",
        "#       images.append(img)\n",
        "#   return images\n",
        "\n",
        "# tr = load_images(pathtrain)\n",
        "\n",
        "# for image in tr:\n",
        "#   cv2_imshow(image)\n",
        "\n",
        "\n",
        "# images = [cv2.imread(file) for file in glob.glob(pathtrain)]"
      ],
      "execution_count": null,
      "outputs": []
    },
    {
      "cell_type": "code",
      "metadata": {
        "id": "PyK3JWR8q1nm"
      },
      "source": [
        "# train_count.transpose().plot(kind='bar')"
      ],
      "execution_count": null,
      "outputs": []
    },
    {
      "cell_type": "code",
      "metadata": {
        "id": "qBFASP8Psj_c"
      },
      "source": [
        "# test_count.transpose().plot(kind='bar')"
      ],
      "execution_count": null,
      "outputs": []
    },
    {
      "cell_type": "code",
      "metadata": {
        "id": "S3UwcM9js0cc"
      },
      "source": [
        "# plt.figure(figsize=(14,22))\n",
        "# i = 1\n",
        "# for expression in os.listdir(pathtrain):\n",
        "#     img = load_img((pathtrain + expression +'/'+ os.listdir(pathtrain + expression)[1]))\n",
        "#     plt.subplot(1,7,i)\n",
        "#     plt.imshow(img)\n",
        "#     plt.title(expression)\n",
        "#     plt.axis('off')\n",
        "#     i += 1\n",
        "# plt.show()"
      ],
      "execution_count": null,
      "outputs": []
    },
    {
      "cell_type": "code",
      "metadata": {
        "id": "lp9yu4mutarV"
      },
      "source": [
        "# train_datagen = ImageDataGenerator(rescale=1./255,\n",
        "#                                    zoom_range=0.3,\n",
        "#                                    horizontal_flip=True)\n",
        "\n",
        "# training_set = train_datagen.flow_from_directory(pathtrain,\n",
        "#                                                 batch_size=64,\n",
        "#                                                 target_size=(48,48),\n",
        "#                                                 shuffle=True,\n",
        "#                                                 color_mode='grayscale',\n",
        "#                                                 class_mode='categorical')\n",
        "\n",
        "# test_datagen = ImageDataGenerator(rescale=1./255)\n",
        "# test_set = test_datagen.flow_from_directory(pathtest,\n",
        "#                                                 batch_size=64,\n",
        "#                                                 target_size=(48,48),\n",
        "#                                                 shuffle=True,\n",
        "#                                                 color_mode='grayscale',\n",
        "#                                                 class_mode='categorical')"
      ],
      "execution_count": null,
      "outputs": []
    },
    {
      "cell_type": "code",
      "metadata": {
        "id": "hmc_jDUktiPO"
      },
      "source": [
        "# training_set.class_indices"
      ],
      "execution_count": null,
      "outputs": []
    },
    {
      "cell_type": "code",
      "metadata": {
        "id": "HidYdK24ttCx"
      },
      "source": [
        "# def get_model(input_size, classes=7):\n",
        "#      #Initialising the CNN\n",
        "#     model = tf.keras.models.Sequential()   \n",
        "\n",
        "#     model.add(Conv2D(32, kernel_size=(3, 3), padding='same', activation='relu', input_shape =input_size))\n",
        "#     model.add(Conv2D(64, kernel_size=(3, 3), activation='relu', padding='same'))\n",
        "#     model.add(BatchNormalization())\n",
        "#     model.add(MaxPooling2D(2, 2))\n",
        "#     model.add(Dropout(0.25))\n",
        "\n",
        "#     model.add(Conv2D(128, kernel_size=(3, 3), activation='relu', padding='same', kernel_regularizer=regularizers.l2(0.01)))\n",
        "#     model.add(Conv2D(256, kernel_size=(3, 3), activation='relu', kernel_regularizer=regularizers.l2(0.01)))\n",
        "#     model.add(BatchNormalization())\n",
        "#     model.add(MaxPooling2D(pool_size=(2, 2)))\n",
        "#     model.add(Dropout(0.25))\n",
        "\n",
        "#     model.add(Flatten())\n",
        "#     model.add(Dense(1024, activation='relu'))\n",
        "#     model.add(Dropout(0.5))\n",
        "    \n",
        "#     model.add(Dense(classes, activation='softmax'))\n",
        "\n",
        "#     #Compliling the model\n",
        "#     model.compile(optimizer=Adam(lr=0.0001, decay=1e-6), \n",
        "#                   loss='categorical_crossentropy', \n",
        "#                   metrics=['accuracy'])\n",
        "#     return model"
      ],
      "execution_count": null,
      "outputs": []
    },
    {
      "cell_type": "code",
      "metadata": {
        "id": "pani0nUltxh-"
      },
      "source": [
        "# fernet = get_model((row,col,1), classes)\n",
        "# fernet.summary()"
      ],
      "execution_count": null,
      "outputs": []
    },
    {
      "cell_type": "code",
      "metadata": {
        "id": "JAX8jhRmt_lD"
      },
      "source": [
        "# plot_model(fernet, to_file='fernet.png', show_shapes=True, show_layer_names=True)"
      ],
      "execution_count": null,
      "outputs": []
    },
    {
      "cell_type": "code",
      "metadata": {
        "id": "pSuP8NZ7uUv9"
      },
      "source": [
        "# chk_path = 'ferNet.h5'\n",
        "# log_dir = \"checkpoint/logs/\" + datetime.datetime.now().strftime(\"%Y%m%d-%H%M%S\")\n",
        "\n",
        "# checkpoint = ModelCheckpoint(filepath=chk_path,\n",
        "#                              save_best_only=True,\n",
        "#                              verbose=1,\n",
        "#                              mode='min',\n",
        "#                              moniter='val_loss')\n",
        "\n",
        "# earlystop = EarlyStopping(monitor='val_loss', \n",
        "#                           min_delta=0, \n",
        "#                           patience=3, \n",
        "#                           verbose=1, \n",
        "#                           restore_best_weights=True)\n",
        "                        \n",
        "# reduce_lr = ReduceLROnPlateau(monitor='val_loss', \n",
        "#                               factor=0.2, \n",
        "#                               patience=6, \n",
        "#                               verbose=1, \n",
        "#                               min_delta=0.0001)\n",
        "\n",
        "\n",
        "# tensorboard_callback = tf.keras.callbacks.TensorBoard(log_dir=log_dir, histogram_freq=1)\n",
        "# csv_logger = CSVLogger('training.log')\n",
        "\n",
        "# callbacks = [checkpoint, reduce_lr, csv_logger]"
      ],
      "execution_count": null,
      "outputs": []
    },
    {
      "cell_type": "code",
      "metadata": {
        "id": "WpG_dMMruXnd"
      },
      "source": [
        "# steps_per_epoch = training_set.n // training_set.batch_size\n",
        "# validation_steps = test_set.n // test_set.batch_size\n",
        "\n",
        "# hist = fernet.fit(x=training_set,\n",
        "#                  validation_data=test_set,\n",
        "#                  epochs=60,\n",
        "#                  callbacks=callbacks,\n",
        "#                  steps_per_epoch=steps_per_epoch,\n",
        "#                  validation_steps=validation_steps)"
      ],
      "execution_count": null,
      "outputs": []
    }
  ]
}